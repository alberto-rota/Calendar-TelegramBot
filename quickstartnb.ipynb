{
 "cells": [
  {
   "cell_type": "code",
   "execution_count": 1,
   "metadata": {},
   "outputs": [],
   "source": [
    "from __future__ import print_function\n",
    "\n",
    "import datetime\n",
    "import os.path\n",
    "\n",
    "from google.auth.transport.requests import Request\n",
    "from google.oauth2.credentials import Credentials\n",
    "from google_auth_oauthlib.flow import InstalledAppFlow\n",
    "from googleapiclient.discovery import build\n",
    "from googleapiclient.errors import HttpError\n",
    "\n",
    "# If modifying these scopes, delete the file token.json.\n",
    "SCOPES = ['https://www.googleapis.com/auth/calendar.readonly']"
   ]
  },
  {
   "cell_type": "code",
   "execution_count": 7,
   "metadata": {},
   "outputs": [
    {
     "name": "stdout",
     "output_type": "stream",
     "text": [
      "Getting the upcoming 10 events\n",
      "2022-06-14 Ritiro Confirmation Letter Erasmum office\n",
      "2022-06-15 Biosensors Exam 1st call\n",
      "2022-06-15T11:30:00+02:00 Deadline Review NearLab paper\n",
      "2022-06-17 EXAM: Sensors from h13.30\n",
      "2022-06-30 Neuroengineering Exam 1st call\n",
      "2022-07-01 Computational Biomechanics Exam 1st call\n",
      "2022-07-05 Eliminazione Instagram\n",
      "2022-07-18 Computational Biomechanics Exam 2nd call\n",
      "2022-07-20 Laurea Ventu\n",
      "2022-07-21 Neuroengineering Exam 2nd call\n",
      "2022-07-26 Biosensors Exam 2nd call\n"
     ]
    }
   ],
   "source": [
    "creds = None\n",
    "\n",
    "if os.path.exists('token.json'):\n",
    "    creds = Credentials.from_authorized_user_file('token.json', SCOPES)\n",
    "# If there are no (valid) credentials available, let the user log in.\n",
    "if not creds or not creds.valid:\n",
    "    if creds and creds.expired and creds.refresh_token:\n",
    "        creds.refresh(Request())\n",
    "    else:\n",
    "        flow = InstalledAppFlow.from_client_secrets_file(\n",
    "            'credentials.json', SCOPES)\n",
    "        creds = flow.run_local_server(port=0)\n",
    "    # Save the credentials for the next run\n",
    "    with open('token.json', 'w') as token:\n",
    "        token.write(creds.to_json())\n",
    "\n",
    "try:\n",
    "    service = build('calendar', 'v3', credentials=creds)\n",
    "\n",
    "    # Call the Calendar API\n",
    "    now = datetime.datetime.utcnow().isoformat() + 'Z'  # 'Z' indicates UTC time\n",
    "    print('Getting the upcoming 10 events')\n",
    "    events_result = service.events().list(calendarId='primary', timeMin=now,\n",
    "                                            singleEvents=True,\n",
    "                                            orderBy='startTime').execute()\n",
    "    events = events_result.get('items', [])\n",
    "\n",
    "    if not events:\n",
    "        print('No upcoming events found.')\n",
    "\n",
    "    # Prints the start and name of the next 10 events\n",
    "    for event in events:\n",
    "        start = event['start'].get('dateTime', event['start'].get('date'))\n",
    "        print(start, event['summary'])\n",
    "\n",
    "except HttpError as error:\n",
    "    print('An error occurred: %s' % error)\n"
   ]
  },
  {
   "cell_type": "code",
   "execution_count": 6,
   "metadata": {},
   "outputs": [],
   "source": [
    "from telegram.ext import (Updater, \n",
    "    CommandHandler,\n",
    "    MessageHandler,\n",
    "    CallbackQueryHandler,\n",
    "    ConversationHandler,\n",
    "    CallbackContext,    \n",
    "    Filters\n",
    ")\n",
    "import datetime"
   ]
  },
  {
   "cell_type": "code",
   "execution_count": 7,
   "metadata": {},
   "outputs": [],
   "source": [
    "with open(\"telegramapi.txt\") as f:\n",
    "        tokens = f.readlines()\n",
    "bot_token = tokens[0].strip(\"\\n\")\n",
    "updater = Updater(token=bot_token, use_context=True)\n",
    "        \n"
   ]
  },
  {
   "cell_type": "code",
   "execution_count": 8,
   "metadata": {},
   "outputs": [
    {
     "name": "stdout",
     "output_type": "stream",
     "text": [
      ">> [13/06/2022-16:14:27]-BOT:  Loading Telegram bot: SUCCESS\n"
     ]
    }
   ],
   "source": [
    "        \n",
    "print(\">> \"+datetime.datetime.now().strftime(\"[%d/%m/%Y-%H:%M:%S]-BOT: \")+\n",
    "        \" Loading Telegram bot: \",end=\"\")\n",
    "dispatcher = updater.dispatcher\n",
    "print(\"SUCCESS\") if updater!=0 else print(\"FAIL\")\n"
   ]
  },
  {
   "cell_type": "code",
   "execution_count": 9,
   "metadata": {},
   "outputs": [
    {
     "data": {
      "text/plain": [
       "<telegram.ext.jobqueue.Job at 0x21401b6e0a0>"
      ]
     },
     "execution_count": 9,
     "metadata": {},
     "output_type": "execute_result"
    }
   ],
   "source": [
    "def send_message(context):\n",
    "    user_id = 410773404\n",
    "\n",
    "\n",
    "    context.bot.send_message(\n",
    "        chat_id=user_id,\n",
    "        text=\"Enculet!\"\n",
    "    )\n",
    "\n",
    "def printid(update, context):\n",
    "    userid = update.message.from_user['id']\n",
    "    print(userid)\n",
    "    context.bot.send_message(\n",
    "        chat_id=update.effective_chat.id, \n",
    "        text=userid\n",
    "    )\n",
    "\n",
    "\n",
    "dispatcher.add_handler(CommandHandler('send_message', send_message))\n",
    "dispatcher.add_handler(CommandHandler('start', printid))\n",
    "\n",
    "jobqueue = updater.job_queue\n",
    "jobqueue.run_repeating(\n",
    "    callback=send_message,\n",
    "    interval=1,\n",
    ")\n"
   ]
  },
  {
   "cell_type": "code",
   "execution_count": 10,
   "metadata": {},
   "outputs": [],
   "source": [
    "\n",
    "updater.start_polling()\n",
    "updater.idle()"
   ]
  },
  {
   "cell_type": "code",
   "execution_count": null,
   "metadata": {},
   "outputs": [],
   "source": []
  }
 ],
 "metadata": {
  "interpreter": {
   "hash": "618bbadb9914128447fd922d1e72f950848015c2c5a2940f9918db08be8e0dec"
  },
  "kernelspec": {
   "display_name": "Python 3.9.5 64-bit",
   "language": "python",
   "name": "python3"
  },
  "language_info": {
   "codemirror_mode": {
    "name": "ipython",
    "version": 3
   },
   "file_extension": ".py",
   "mimetype": "text/x-python",
   "name": "python",
   "nbconvert_exporter": "python",
   "pygments_lexer": "ipython3",
   "version": "3.9.5"
  },
  "orig_nbformat": 4
 },
 "nbformat": 4,
 "nbformat_minor": 2
}
