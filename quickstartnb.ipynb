{
 "cells": [
  {
   "cell_type": "code",
   "execution_count": 147,
   "metadata": {},
   "outputs": [],
   "source": [
    "from __future__ import print_function\n",
    "\n",
    "import datetime\n",
    "import os.path\n",
    "\n",
    "from google.auth.transport.requests import Request\n",
    "from google.oauth2.credentials import Credentials\n",
    "from google_auth_oauthlib.flow import InstalledAppFlow\n",
    "from googleapiclient.discovery import build\n",
    "from googleapiclient.errors import HttpError\n",
    "\n",
    "# If modifying these scopes, delete the file token.json.\n",
    "SCOPES = ['https://www.googleapis.com/auth/calendar.readonly']"
   ]
  },
  {
   "cell_type": "markdown",
   "metadata": {},
   "source": []
  },
  {
   "cell_type": "code",
   "execution_count": 148,
   "metadata": {},
   "outputs": [
    {
     "name": "stdout",
     "output_type": "stream",
     "text": [
      "Getting the upcoming 10 events\n"
     ]
    }
   ],
   "source": [
    "creds = None\n",
    "\n",
    "if os.path.exists('token.json'):\n",
    "    creds = Credentials.from_authorized_user_file('token.json', SCOPES)\n",
    "# If there are no (valid) credentials available, let the user log in.\n",
    "if not creds or not creds.valid:\n",
    "    if creds and creds.expired and creds.refresh_token:\n",
    "        creds.refresh(Request())\n",
    "    else:\n",
    "        flow = InstalledAppFlow.from_client_secrets_file(\n",
    "            'credentials.json', SCOPES)\n",
    "        creds = flow.run_local_server(port=0)\n",
    "    # Save the credentials for the next run\n",
    "    with open('token.json', 'w') as token:\n",
    "        token.write(creds.to_json())\n",
    "\n",
    "try:\n",
    "    service = build('calendar', 'v3', credentials=creds)\n",
    "\n",
    "    # Call the Calendar API\n",
    "    now = datetime.datetime.utcnow().isoformat() + 'Z'  # 'Z' indicates UTC time\n",
    "    print('Getting the upcoming 10 events')\n",
    "    events_result = service.events().list(calendarId='primary', timeMin=now,\n",
    "                                            singleEvents=True, maxResults=100,\n",
    "                                            orderBy='startTime').execute()\n",
    "    events = events_result.get('items')\n",
    "\n",
    "    if not events:\n",
    "        print('No upcoming events found.')\n",
    "\n",
    "except HttpError as error:\n",
    "    print('An error occurred: %s' % error)\n"
   ]
  },
  {
   "cell_type": "code",
   "execution_count": 149,
   "metadata": {},
   "outputs": [
    {
     "data": {
      "text/plain": [
       "datetime.datetime(2022, 6, 16, 14, 32, 24, 369412)"
      ]
     },
     "execution_count": 149,
     "metadata": {},
     "output_type": "execute_result"
    }
   ],
   "source": [
    "now = datetime.datetime.utcnow()\n",
    "now"
   ]
  },
  {
   "cell_type": "code",
   "execution_count": 150,
   "metadata": {},
   "outputs": [
    {
     "data": {
      "text/plain": [
       "datetime.datetime(2022, 6, 17, 14, 32, 24, 369412)"
      ]
     },
     "execution_count": 150,
     "metadata": {},
     "output_type": "execute_result"
    }
   ],
   "source": [
    "now + datetime.timedelta(days=1)"
   ]
  },
  {
   "cell_type": "code",
   "execution_count": 151,
   "metadata": {},
   "outputs": [
    {
     "name": "stdout",
     "output_type": "stream",
     "text": [
      "17/06/2022 13:30 -> 17/06/2022 15:30 EXAM: Sensors from h13.30\n",
      "18/06/2022 All Day -> 19/06/2022 All Day Ghent\n",
      "21/06/2022 11:50 -> 21/06/2022 13:25 Flight to Milan (FR 4526)\n",
      "22/06/2022 All Day -> 23/06/2022 All Day Meeting NearLab - Ke\n",
      "30/06/2022 All Day -> 01/07/2022 All Day Neuroengineering Exam 1st call\n",
      "30/06/2022 10:00 -> 30/06/2022 12:00 Esame MAM Ventu\n",
      "01/07/2022 All Day -> 02/07/2022 All Day Computational Biomechanics Exam 1st call\n",
      "05/07/2022 All Day -> 06/07/2022 All Day Eliminazione Instagram\n",
      "18/07/2022 All Day -> 19/07/2022 All Day Computational Biomechanics Exam 2nd call\n",
      "20/07/2022 All Day -> 21/07/2022 All Day Laurea Ventu\n",
      "21/07/2022 All Day -> 22/07/2022 All Day Neuroengineering Exam 2nd call\n",
      "26/07/2022 All Day -> 27/07/2022 All Day Biosensors Exam 2nd call\n"
     ]
    }
   ],
   "source": [
    "# Prints the start and name of the next 10 events   \n",
    "color = {\n",
    "    None:   \"🐬\",\n",
    "    \"1\":    \"🌊\",\n",
    "    \"2\":    \"🗽\",\n",
    "    \"3\":    \"🍇\",\n",
    "    \"4\":    \"🦜\",\n",
    "    \"5\":    \"🐆\",\n",
    "    \"6\":    \"🦀\",\n",
    "    \"7\":    \"🌍\",\n",
    "    \"8\":    \"🐘\",\n",
    "    \"9\":    \"🏞️\",\n",
    "    \"10\":   \"🐢\",\n",
    "    \"11\":   \"🍎\",\n",
    "}\n",
    "\n",
    "now = datetime.datetime.strptime(events[k]['start']['date'],\"%Y-%m-%d\")\n",
    "for k,e in enumerate(events):\n",
    "    if 'date' in e['start'].keys():\n",
    "        events[k]['start']['date'] = datetime.datetime.strptime(events[k]['start']['date'],\"%Y-%m-%d\")\n",
    "        events[k]['end']['date'] = datetime.datetime.strptime(events[k]['end']['date'],\"%Y-%m-%d\")\n",
    "        \n",
    "        events[k]['start']['date'] = events[k]['start'][\"date\"].strftime(\"%d/%m/%Y\")\n",
    "        events[k]['start']['time'] = \"All Day\"\n",
    "        events[k]['end']['date'] = events[k]['end'][\"date\"].strftime(\"%d/%m/%Y\")\n",
    "        events[k]['end']['time'] = \"All Day\"\n",
    "        \n",
    "    elif 'dateTime' in e['start'].keys():     \n",
    "        events[k]['start']['dateTime'] = datetime.datetime.strptime(events[k]['start']['dateTime'],\"%Y-%m-%dT%H:%M:%S+%U:%W\")\n",
    "        events[k]['end']['dateTime'] = datetime.datetime.strptime(events[k]['end']['dateTime'],\"%Y-%m-%dT%H:%M:%S+%U:%W\")\n",
    "        \n",
    "        events[k]['start']['date'] = events[k]['start'][\"dateTime\"].strftime(\"%d/%m/%Y\")\n",
    "        events[k]['start']['time'] = events[k]['start'][\"dateTime\"].strftime(\"%H:%M\")\n",
    "        events[k]['end']['date'] = events[k]['end'][\"dateTime\"].strftime(\"%d/%m/%Y\")\n",
    "        events[k]['end']['time'] = events[k]['end'][\"dateTime\"].strftime(\"%H:%M\")\n",
    "        \n",
    "for event in events: \n",
    "    print(event['start']['date'], event['start']['time'], \"->\", event['end']['date'], event['end']['time'], event['summary'])"
   ]
  },
  {
   "cell_type": "code",
   "execution_count": 152,
   "metadata": {},
   "outputs": [
    {
     "data": {
      "text/plain": [
       "'🐬'"
      ]
     },
     "execution_count": 152,
     "metadata": {},
     "output_type": "execute_result"
    }
   ],
   "source": [
    "color[None]"
   ]
  },
  {
   "cell_type": "code",
   "execution_count": 168,
   "metadata": {},
   "outputs": [
    {
     "name": "stdout",
     "output_type": "stream",
     "text": [
      ">> [16/06/2022-17:01:29]-BOT:  Loading Telegram bot: SUCCESS\n",
      ">> [16/06/2022-17:01:31]-410773404:  MENU request \n",
      "EXAM: Sensors from h13.30\n",
      "Ghent\n",
      "Flight to Milan (FR 4526)\n",
      "Meeting NearLab - Ke\n",
      "Neuroengineering Exam 1st call\n",
      "Esame MAM Ventu\n",
      "Computational Biomechanics Exam 1st call\n",
      "Eliminazione Instagram\n",
      "Computational Biomechanics Exam 2nd call\n",
      "Laurea Ventu\n"
     ]
    },
    {
     "name": "stderr",
     "output_type": "stream",
     "text": [
      "No error handlers are registered, logging exception.\n",
      "Traceback (most recent call last):\n",
      "  File \"c:\\Users\\alber\\AppData\\Local\\Programs\\Python\\Python39\\lib\\site-packages\\telegram\\ext\\dispatcher.py\", line 555, in process_update\n",
      "    handler.handle_update(update, self, check, context)\n",
      "  File \"c:\\Users\\alber\\AppData\\Local\\Programs\\Python\\Python39\\lib\\site-packages\\telegram\\ext\\conversationhandler.py\", line 626, in handle_update\n",
      "    new_state = handler.handle_update(update, dispatcher, check_result, context)\n",
      "  File \"c:\\Users\\alber\\AppData\\Local\\Programs\\Python\\Python39\\lib\\site-packages\\telegram\\ext\\handler.py\", line 198, in handle_update\n",
      "    return self.callback(update, context)\n",
      "  File \"C:\\Users\\alber\\AppData\\Local\\Temp/ipykernel_19236/2572307405.py\", line 99, in events_callback\n",
      "    InlineKeyboardButton(color[e['colorId']]+\" \"+e['summary']+\" \"+color[e['colorId']], callback_data=\"f\")\n",
      "KeyError: 'colorId'\n"
     ]
    }
   ],
   "source": [
    "from telegram.ext import (Updater, \n",
    "    CommandHandler,\n",
    "    MessageHandler,\n",
    "    CallbackQueryHandler,\n",
    "    ConversationHandler,\n",
    "    CallbackContext,    \n",
    "    Filters\n",
    ")\n",
    "import datetime\n",
    "with open(\"telegramapi.txt\") as f:\n",
    "        tokens = f.readlines()\n",
    "bot_token = tokens[0].strip(\"\\n\")\n",
    "updater = Updater(token=bot_token, use_context=True)\n",
    "        \n",
    "\n",
    "        \n",
    "print(\">> \"+datetime.datetime.now().strftime(\"[%d/%m/%Y-%H:%M:%S]-BOT: \")+\n",
    "        \" Loading Telegram bot: \",end=\"\")\n",
    "dispatcher = updater.dispatcher\n",
    "print(\"SUCCESS\") if updater!=0 else print(\"FAIL\")\n",
    "\n",
    "def send_message(context):\n",
    "    user_id = 410773404\n",
    "    context.bot.send_message(\n",
    "        chat_id=user_id,\n",
    "        text=\"Enculet!\"\n",
    "    )\n",
    "\n",
    "def printid(update, context):\n",
    "    userid = update.message.from_user['id']\n",
    "    print(userid)\n",
    "    context.bot.send_message(\n",
    "        chat_id=update.effective_chat.id, \n",
    "        text=userid\n",
    "    )\n",
    "\n",
    "\n",
    "# dispatcher.add_handler(CommandHandler('send_message', send_message))\n",
    "# dispatcher.add_handler(CommandHandler('start', printid))\n",
    "\n",
    "# jobqueue = updater.job_queue\n",
    "# jobqueue.run_repeating(\n",
    "#     callback=send_message,\n",
    "#     interval=1,\n",
    "# )\n",
    "\n",
    "def center(text, w,sep='_'):\n",
    "    ext = sep\n",
    "    left = (w-len(text))//2\n",
    "    right = w-left-len(text)\n",
    "    return left*ext+ text + right*ext\n",
    "\n",
    "MENU = 0\n",
    "LINEWIDTH = 36\n",
    "BT = \"`\"\n",
    "SEP = \"_\"\n",
    "import telegram\n",
    "from telegram import ReplyKeyboardMarkup\n",
    "from telegram import InlineKeyboardButton, InlineKeyboardMarkup, Update\n",
    "\n",
    "\n",
    "def events_callback(update, context):\n",
    "    user_id = update.message.from_user['id']\n",
    "    menu_options = [\n",
    "        ['Events','Tasks']\n",
    "    ]\n",
    "    \n",
    "    for e in events:\n",
    "        events_keyboard = []\n",
    "        print(e['summary'])\n",
    "        if datetime.datetime.utcnow().strftime(\"%d/%m/%Y\") == e['start']['date']:\n",
    "            update.message.reply_text(\n",
    "                BT+\"*\"+center(\"TODAY\",LINEWIDTH,sep=\" \")+\"*\"+BT+\"\\n\"+center(\"-\",LINEWIDTH,sep = \"-\")+BT,\n",
    "                parse_mode=telegram.ParseMode.MARKDOWN\n",
    "            )\n",
    "        elif (datetime.datetime.utcnow()+datetime.timedelta(days=1)).strftime(\"%d/%m/%Y\") == e['start']['date']:\n",
    "            update.message.reply_text(                \n",
    "                \"*\"+center(\"TOMORROW\",LINEWIDTH,sep=\" \")+\"*\"+\"\\n\"+BT+center(\"-\",LINEWIDTH,sep = \"-\")+BT,\n",
    "                parse_mode=telegram.ParseMode.MARKDOWN\n",
    "            )\n",
    "        else:\n",
    "            update.message.reply_text(                \n",
    "                \"*\"+center(\"FURTHER\",LINEWIDTH,sep=\" \")+\"*\"+\"\\n\"+BT+center(\"-\",LINEWIDTH,sep = \"-\")+BT,\n",
    "                parse_mode=telegram.ParseMode.MARKDOWN\n",
    "            )\n",
    "        # One day events\n",
    "        if e['start']['date'] == e['end']['date']:\n",
    "            \n",
    "            # All day events\n",
    "            if e['start']['time'] == \"All Day\":\n",
    "                events_keyboard.append([\n",
    "                        InlineKeyboardButton(color[e['colorId']]+\" \"+e['summary']+\" \"+color[e['colorId']], callback_data=\"f\")\n",
    "                ])\n",
    "                msg_text = e['start']['date']+\"  All Day\"\n",
    "            else:\n",
    "                events_keyboard.append([\n",
    "                        InlineKeyboardButton(color[e['colorId']]+\" \"+e['summary']+\" \"+color[e['colorId']], callback_data=\"f\")\n",
    "                ])\n",
    "                msg_text = e['start']['date']+\"-\"+e['start']['time']+\" ➡️ \"+ e['end']['date']+\"-\"+e['end']['time']\n",
    "                \n",
    "        # Multiple day events\n",
    "        else:\n",
    "            events_keyboard.append([\n",
    "                    InlineKeyboardButton(color[e['colorId']]+\" \"+e['summary']+\" \"+color[e['colorId']], callback_data=\"f\")\n",
    "            ])\n",
    "            msg_text = e['start']['date']+\" ➡️ \"+ e['end']['date']\n",
    "        reply_markup = InlineKeyboardMarkup(events_keyboard,resize_keyboard=True)\n",
    "        \n",
    "        update.message.reply_text(\n",
    "            BT+center(msg_text,LINEWIDTH)+BT,\n",
    "            parse_mode=telegram.ParseMode.MARKDOWN,\n",
    "            reply_markup = reply_markup\n",
    "        )\n",
    "    return MENU\n",
    "\n",
    "def tasks_callback(update,context):\n",
    "    client=context.dispatcher.user_data['client']\n",
    "    user_id = update.message.from_user['id']\n",
    "    menu_options = [\n",
    "        ['Events','Tasks']\n",
    "    ]\n",
    "\n",
    "    update.message.reply_text(\n",
    "        text=\"Showing Tasks NOW\",\n",
    "        # chat_id=update.effective_chat.id,\n",
    "        parse_mode=telegram.ParseMode.HTML,\n",
    "        reply_markup=ReplyKeyboardMarkup(\n",
    "            menu_options, \n",
    "            one_time_keyboard=True,\n",
    "            resize_keyboard=True,\n",
    "            )\n",
    "    )\n",
    "    return MENU\n",
    "\n",
    "def menu(update, context):\n",
    "    user_id = update.message.from_user['id']\n",
    "    print(\">> \"+datetime.datetime.now().strftime(f\"[%d/%m/%Y-%H:%M:%S]-{user_id}: \")+\n",
    "        \" MENU request \")\n",
    "    \n",
    "    menu_options = [\n",
    "        ['Events','Tasks']\n",
    "    ]\n",
    "\n",
    "    update.message.reply_text(\n",
    "        \"Select from the menu:  \",\n",
    "        reply_markup=ReplyKeyboardMarkup(\n",
    "            menu_options, \n",
    "            one_time_keyboard=True,\n",
    "            resize_keyboard=True,\n",
    "        ),\n",
    "    )\n",
    "    return MENU\n",
    "\n",
    "conv_handler = ConversationHandler(\n",
    "        entry_points=[CommandHandler('menu',menu)],\n",
    "        states={\n",
    "            MENU: \n",
    "                [\n",
    "                MessageHandler(Filters.regex('^(Events)$'), events_callback),\n",
    "                MessageHandler(Filters.regex('^(Tasks)$'), tasks_callback),\n",
    "                ],\n",
    "        },\n",
    "        fallbacks=[CommandHandler('menu', menu)]\n",
    ")\n",
    "dispatcher.add_handler(conv_handler)\n",
    "dispatcher.add_handler(CommandHandler('menu', menu))\n",
    "\n",
    "updater.start_polling()\n",
    "updater.idle()"
   ]
  },
  {
   "cell_type": "code",
   "execution_count": null,
   "metadata": {},
   "outputs": [
    {
     "data": {
      "text/plain": [
       "str"
      ]
     },
     "execution_count": 37,
     "metadata": {},
     "output_type": "execute_result"
    }
   ],
   "source": [
    "type(\"helo\")"
   ]
  },
  {
   "cell_type": "code",
   "execution_count": null,
   "metadata": {},
   "outputs": [
    {
     "data": {
      "text/plain": [
       "str"
      ]
     },
     "execution_count": 38,
     "metadata": {},
     "output_type": "execute_result"
    }
   ],
   "source": [
    "type(events[6]['id'])"
   ]
  },
  {
   "cell_type": "code",
   "execution_count": null,
   "metadata": {},
   "outputs": [
    {
     "name": "stdout",
     "output_type": "stream",
     "text": [
      "EXAM: Sensors from h13.30\n",
      "Ghent\n",
      "Flight to Milan (FR 4526)\n",
      "Meeting NearLab - Ke\n",
      "Neuroengineering Exam 1st call\n",
      "Esame MAM Ventu\n",
      "Computational Biomechanics Exam 1st call\n",
      "Eliminazione Instagram\n",
      "Computational Biomechanics Exam 2nd call\n",
      "Laurea Ventu\n",
      "Neuroengineering Exam 2nd call\n",
      "Biosensors Exam 2nd call\n"
     ]
    },
    {
     "data": {
      "text/plain": [
       "[<telegram.inline.inlinekeyboardbutton.InlineKeyboardButton at 0x2224308c580>]"
      ]
     },
     "execution_count": 28,
     "metadata": {},
     "output_type": "execute_result"
    }
   ],
   "source": [
    "events_keyboard = []\n",
    "for e in events:\n",
    "    print(e['summary'])\n",
    "    if 'date' in e['start'].keys():\n",
    "        events_keyboard.append([\n",
    "            InlineKeyboardButton(e['summary'], \n",
    "                                    callback_data= \"f\")]\n",
    "        )\n",
    "    elif 'dateTime' in e['start'].keys():\n",
    "        events_keyboard.append([\n",
    "            InlineKeyboardButton(e['summary'], \n",
    "                                    callback_data= \"f\")]\n",
    "        )\n",
    "events_keyboard[0]"
   ]
  }
 ],
 "metadata": {
  "interpreter": {
   "hash": "618bbadb9914128447fd922d1e72f950848015c2c5a2940f9918db08be8e0dec"
  },
  "kernelspec": {
   "display_name": "Python 3.9.5 64-bit",
   "language": "python",
   "name": "python3"
  },
  "language_info": {
   "codemirror_mode": {
    "name": "ipython",
    "version": 3
   },
   "file_extension": ".py",
   "mimetype": "text/x-python",
   "name": "python",
   "nbconvert_exporter": "python",
   "pygments_lexer": "ipython3",
   "version": "3.9.5"
  },
  "orig_nbformat": 4
 },
 "nbformat": 4,
 "nbformat_minor": 2
}
